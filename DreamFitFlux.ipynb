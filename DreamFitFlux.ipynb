{
 "cells": [
  {
   "cell_type": "code",
   "execution_count": null,
   "id": "1b072f84-70c5-429a-921d-f4615a6f6922",
   "metadata": {},
   "outputs": [
    {
     "name": "stdout",
     "output_type": "stream",
     "text": [
      "Cloning into 'DreamFit'...\n",
      "remote: Enumerating objects: 117, done.\u001b[K\n",
      "remote: Counting objects: 100% (117/117), done.\u001b[K\n",
      "remote: Compressing objects: 100% (92/92), done.\u001b[K\n",
      "remote: Total 117 (delta 13), reused 117 (delta 13), pack-reused 0 (from 0)\u001b[K\n",
      "Receiving objects: 100% (117/117), 3.53 MiB | 9.82 MiB/s, done.\n",
      "Resolving deltas: 100% (13/13), done.\n"
     ]
    }
   ],
   "source": [
    "!git clone https://github.com/lieding/DreamFit.git"
   ]
  },
  {
   "cell_type": "code",
   "execution_count": null,
   "id": "4afd8ce2",
   "metadata": {},
   "outputs": [],
   "source": [
    "from huggingface_hub import snapshot_download\n",
    "snapshot_download(repo_id=\"Shakker-Labs/AWPortrait-FL\", allow_patterns=[\"text_encoder\",\"text_encoder_2\", \"tokenizer\",\"tokenizer_2\"], cache_dir = \"./\")"
   ]
  },
  {
   "cell_type": "code",
   "execution_count": null,
   "id": "0962d5c5",
   "metadata": {},
   "outputs": [],
   "source": [
    "!wget https://huggingface.co/receptektas/black-forest-labs-ae_safetensors/resolve/main/ae.safetensors"
   ]
  },
  {
   "cell_type": "code",
   "execution_count": null,
   "id": "d64c9073",
   "metadata": {},
   "outputs": [],
   "source": [
    "!wget https://huggingface.co/bytedance-research/Dreamfit/resolve/main/flux_i2i.bin"
   ]
  },
  {
   "cell_type": "code",
   "execution_count": null,
   "id": "35c8eebb",
   "metadata": {},
   "outputs": [],
   "source": [
    "!wget https://huggingface.co/Shakker-Labs/AWPortrait-FL/resolve/main/AWPortrait-FL-fp8.safetensors"
   ]
  },
  {
   "cell_type": "code",
   "execution_count": 3,
   "id": "161975eb-1b46-441c-8b77-c37638693858",
   "metadata": {},
   "outputs": [
    {
     "name": "stdout",
     "output_type": "stream",
     "text": [
      "lrwxrwxrwx 1 featurize featurize 69 Mar 12 15:39 /home/featurize/work/app/comfyui/ComfyUI/models/unet/flux1-dev-fp8.safetensors -> /home/featurize/.public/comfyui/models/unet/flux1-dev-fp8.safetensors\n"
     ]
    }
   ],
   "source": [
    "!ls -l /home/featurize/work/app/comfyui/ComfyUI/models/unet/flux1-dev-fp8.safetensors"
   ]
  },
  {
   "cell_type": "code",
   "execution_count": 8,
   "id": "0aa0a904-dab5-4f0f-bdf3-15f0623f8cc2",
   "metadata": {},
   "outputs": [
    {
     "name": "stdout",
     "output_type": "stream",
     "text": [
      "-rw------- 1 featurize featurize 11901525888 Aug 29  2024 /home/featurize/.public/comfyui/models/unet/flux1-dev-fp8.safetensors\n"
     ]
    }
   ],
   "source": [
    "ls -l /home/featurize/.public/comfyui/models/unet/flux1-dev-fp8.safetensors"
   ]
  },
  {
   "cell_type": "code",
   "execution_count": null,
   "id": "62e992a1-67c5-41fa-afff-d7b554bbc914",
   "metadata": {},
   "outputs": [],
   "source": [
    "import os\n",
    "os.environ[\"FLUX_DEV\"] = \"/home/featurize/work/pretrained_models/flux1-dev-fp8.safetensors\"\n",
    "os.environ[\"AE\"] = \"/home/featurize/work/pretrained_models/FLUX.1-dev/vae/ae.safetensors\""
   ]
  },
  {
   "cell_type": "code",
   "execution_count": 16,
   "id": "63ada4de-b184-4047-bef3-0def130a611b",
   "metadata": {
    "scrolled": true
   },
   "outputs": [
    {
     "name": "stdout",
     "output_type": "stream",
     "text": [
      "Looking in indexes: https://pypi.tuna.tsinghua.edu.cn/simple\n",
      "Collecting numpy<2 (from -r requirements.txt (line 1))\n",
      "  Downloading https://pypi.tuna.tsinghua.edu.cn/packages/3a/d0/edc009c27b406c4f9cbc79274d6e46d634d139075492ad055e3d68445925/numpy-1.26.4-cp311-cp311-manylinux_2_17_x86_64.manylinux2014_x86_64.whl (18.3 MB)\n",
      "\u001b[2K     \u001b[90m━━━━━━━━━━━━━━━━━━━━━━━━━━━━━━━━━━━━━━━━\u001b[0m \u001b[32m18.3/18.3 MB\u001b[0m \u001b[31m60.8 MB/s\u001b[0m eta \u001b[36m0:00:00\u001b[0m00:01\u001b[0m00:01\u001b[0m\n",
      "\u001b[?25hRequirement already satisfied: accelerate==0.30.1 in /environment/miniconda3/lib/python3.11/site-packages (from -r requirements.txt (line 2)) (0.30.1)\n",
      "Requirement already satisfied: deepspeed==0.14.4 in /environment/miniconda3/lib/python3.11/site-packages (from -r requirements.txt (line 3)) (0.14.4)\n",
      "Requirement already satisfied: einops==0.8.0 in /environment/miniconda3/lib/python3.11/site-packages (from -r requirements.txt (line 4)) (0.8.0)\n",
      "Requirement already satisfied: transformers==4.43.3 in /environment/miniconda3/lib/python3.11/site-packages (from -r requirements.txt (line 5)) (4.43.3)\n",
      "Requirement already satisfied: optimum-quanto==0.2.7 in /environment/miniconda3/lib/python3.11/site-packages (from -r requirements.txt (line 6)) (0.2.7)\n",
      "Requirement already satisfied: datasets==2.3.0 in /environment/miniconda3/lib/python3.11/site-packages (from -r requirements.txt (line 7)) (2.3.0)\n",
      "Requirement already satisfied: omegaconf==2.3.0 in /environment/miniconda3/lib/python3.11/site-packages (from -r requirements.txt (line 8)) (2.3.0)\n",
      "Requirement already satisfied: diffusers==0.32.2 in /environment/miniconda3/lib/python3.11/site-packages (from -r requirements.txt (line 9)) (0.32.2)\n",
      "Requirement already satisfied: sentencepiece==0.2.0 in /environment/miniconda3/lib/python3.11/site-packages (from -r requirements.txt (line 10)) (0.2.0)\n",
      "Requirement already satisfied: matplotlib==3.10.1 in /environment/miniconda3/lib/python3.11/site-packages (from -r requirements.txt (line 11)) (3.10.1)\n",
      "Requirement already satisfied: onnxruntime==1.21.0 in /environment/miniconda3/lib/python3.11/site-packages (from -r requirements.txt (line 12)) (1.21.0)\n",
      "Requirement already satisfied: torchvision==0.21.0 in /environment/miniconda3/lib/python3.11/site-packages (from -r requirements.txt (line 13)) (0.21.0)\n",
      "Requirement already satisfied: timm==0.6.7 in /environment/miniconda3/lib/python3.11/site-packages (from -r requirements.txt (line 14)) (0.6.7)\n",
      "Requirement already satisfied: loguru==0.7.3 in /environment/miniconda3/lib/python3.11/site-packages (from -r requirements.txt (line 15)) (0.7.3)\n",
      "Requirement already satisfied: controlnet_aux==0.0.9 in /environment/miniconda3/lib/python3.11/site-packages (from -r requirements.txt (line 16)) (0.0.9)\n",
      "Requirement already satisfied: xformers==0.0.29.post3 in /environment/miniconda3/lib/python3.11/site-packages (from -r requirements.txt (line 17)) (0.0.29.post3)\n",
      "Requirement already satisfied: opencv-python==4.11.0.86 in /environment/miniconda3/lib/python3.11/site-packages (from -r requirements.txt (line 18)) (4.11.0.86)\n",
      "Requirement already satisfied: pytorch-lightning==2.5.1 in /environment/miniconda3/lib/python3.11/site-packages (from -r requirements.txt (line 19)) (2.5.1)\n",
      "Requirement already satisfied: open-clip-torch==2.31.0 in /environment/miniconda3/lib/python3.11/site-packages (from -r requirements.txt (line 20)) (2.31.0)\n",
      "Requirement already satisfied: torch==2.6.0 in /environment/miniconda3/lib/python3.11/site-packages (from -r requirements.txt (line 21)) (2.6.0)\n",
      "Requirement already satisfied: came-pytorch==0.1.3 in /environment/miniconda3/lib/python3.11/site-packages (from -r requirements.txt (line 22)) (0.1.3)\n",
      "Requirement already satisfied: Cython==3.0.12 in /environment/miniconda3/lib/python3.11/site-packages (from -r requirements.txt (line 23)) (3.0.12)\n",
      "Requirement already satisfied: scipy==1.15.2 in /environment/miniconda3/lib/python3.11/site-packages (from -r requirements.txt (line 24)) (1.15.2)\n",
      "Requirement already satisfied: safetensors==0.5.3 in /environment/miniconda3/lib/python3.11/site-packages (from -r requirements.txt (line 25)) (0.5.3)\n",
      "Requirement already satisfied: huggingface_hub==0.25 in /environment/miniconda3/lib/python3.11/site-packages (from -r requirements.txt (line 26)) (0.25.0)\n",
      "Requirement already satisfied: packaging>=20.0 in /environment/miniconda3/lib/python3.11/site-packages (from accelerate==0.30.1->-r requirements.txt (line 2)) (23.2)\n",
      "Requirement already satisfied: psutil in /environment/miniconda3/lib/python3.11/site-packages (from accelerate==0.30.1->-r requirements.txt (line 2)) (5.9.8)\n",
      "Requirement already satisfied: pyyaml in /environment/miniconda3/lib/python3.11/site-packages (from accelerate==0.30.1->-r requirements.txt (line 2)) (6.0.1)\n",
      "Requirement already satisfied: hjson in /environment/miniconda3/lib/python3.11/site-packages (from deepspeed==0.14.4->-r requirements.txt (line 3)) (3.1.0)\n",
      "Requirement already satisfied: ninja in /environment/miniconda3/lib/python3.11/site-packages (from deepspeed==0.14.4->-r requirements.txt (line 3)) (1.11.1.4)\n",
      "Requirement already satisfied: nvidia-ml-py in /environment/miniconda3/lib/python3.11/site-packages (from deepspeed==0.14.4->-r requirements.txt (line 3)) (12.575.51)\n",
      "Requirement already satisfied: py-cpuinfo in /environment/miniconda3/lib/python3.11/site-packages (from deepspeed==0.14.4->-r requirements.txt (line 3)) (9.0.0)\n",
      "Requirement already satisfied: pydantic in /environment/miniconda3/lib/python3.11/site-packages (from deepspeed==0.14.4->-r requirements.txt (line 3)) (2.11.4)\n",
      "Requirement already satisfied: tqdm in /environment/miniconda3/lib/python3.11/site-packages (from deepspeed==0.14.4->-r requirements.txt (line 3)) (4.65.0)\n",
      "Requirement already satisfied: filelock in /environment/miniconda3/lib/python3.11/site-packages (from transformers==4.43.3->-r requirements.txt (line 5)) (3.13.4)\n",
      "Requirement already satisfied: regex!=2019.12.17 in /environment/miniconda3/lib/python3.11/site-packages (from transformers==4.43.3->-r requirements.txt (line 5)) (2024.11.6)\n",
      "Requirement already satisfied: requests in /environment/miniconda3/lib/python3.11/site-packages (from transformers==4.43.3->-r requirements.txt (line 5)) (2.31.0)\n",
      "Requirement already satisfied: tokenizers<0.20,>=0.19 in /environment/miniconda3/lib/python3.11/site-packages (from transformers==4.43.3->-r requirements.txt (line 5)) (0.19.1)\n",
      "Requirement already satisfied: pyarrow>=6.0.0 in /environment/miniconda3/lib/python3.11/site-packages (from datasets==2.3.0->-r requirements.txt (line 7)) (20.0.0)\n",
      "Requirement already satisfied: dill<0.3.6 in /environment/miniconda3/lib/python3.11/site-packages (from datasets==2.3.0->-r requirements.txt (line 7)) (0.3.5.1)\n",
      "Requirement already satisfied: pandas in /environment/miniconda3/lib/python3.11/site-packages (from datasets==2.3.0->-r requirements.txt (line 7)) (2.2.2)\n",
      "Requirement already satisfied: xxhash in /environment/miniconda3/lib/python3.11/site-packages (from datasets==2.3.0->-r requirements.txt (line 7)) (3.5.0)\n",
      "Requirement already satisfied: multiprocess in /environment/miniconda3/lib/python3.11/site-packages (from datasets==2.3.0->-r requirements.txt (line 7)) (0.70.13)\n",
      "Requirement already satisfied: fsspec>=2021.05.0 in /environment/miniconda3/lib/python3.11/site-packages (from fsspec[http]>=2021.05.0->datasets==2.3.0->-r requirements.txt (line 7)) (2024.3.1)\n",
      "Requirement already satisfied: aiohttp in /environment/miniconda3/lib/python3.11/site-packages (from datasets==2.3.0->-r requirements.txt (line 7)) (3.7.4)\n",
      "Requirement already satisfied: responses<0.19 in /environment/miniconda3/lib/python3.11/site-packages (from datasets==2.3.0->-r requirements.txt (line 7)) (0.18.0)\n",
      "Requirement already satisfied: antlr4-python3-runtime==4.9.* in /environment/miniconda3/lib/python3.11/site-packages (from omegaconf==2.3.0->-r requirements.txt (line 8)) (4.9.3)\n",
      "Requirement already satisfied: importlib-metadata in /environment/miniconda3/lib/python3.11/site-packages (from diffusers==0.32.2->-r requirements.txt (line 9)) (8.7.0)\n",
      "Requirement already satisfied: Pillow in /environment/miniconda3/lib/python3.11/site-packages (from diffusers==0.32.2->-r requirements.txt (line 9)) (10.3.0)\n",
      "Requirement already satisfied: contourpy>=1.0.1 in /environment/miniconda3/lib/python3.11/site-packages (from matplotlib==3.10.1->-r requirements.txt (line 11)) (1.2.1)\n",
      "Requirement already satisfied: cycler>=0.10 in /environment/miniconda3/lib/python3.11/site-packages (from matplotlib==3.10.1->-r requirements.txt (line 11)) (0.12.1)\n",
      "Requirement already satisfied: fonttools>=4.22.0 in /environment/miniconda3/lib/python3.11/site-packages (from matplotlib==3.10.1->-r requirements.txt (line 11)) (4.53.0)\n",
      "Requirement already satisfied: kiwisolver>=1.3.1 in /environment/miniconda3/lib/python3.11/site-packages (from matplotlib==3.10.1->-r requirements.txt (line 11)) (1.4.5)\n",
      "Requirement already satisfied: pyparsing>=2.3.1 in /environment/miniconda3/lib/python3.11/site-packages (from matplotlib==3.10.1->-r requirements.txt (line 11)) (3.1.2)\n",
      "Requirement already satisfied: python-dateutil>=2.7 in /environment/miniconda3/lib/python3.11/site-packages (from matplotlib==3.10.1->-r requirements.txt (line 11)) (2.9.0.post0)\n",
      "Requirement already satisfied: coloredlogs in /environment/miniconda3/lib/python3.11/site-packages (from onnxruntime==1.21.0->-r requirements.txt (line 12)) (15.0.1)\n",
      "Requirement already satisfied: flatbuffers in /environment/miniconda3/lib/python3.11/site-packages (from onnxruntime==1.21.0->-r requirements.txt (line 12)) (24.3.25)\n",
      "Requirement already satisfied: protobuf in /environment/miniconda3/lib/python3.11/site-packages (from onnxruntime==1.21.0->-r requirements.txt (line 12)) (4.25.3)\n",
      "Requirement already satisfied: sympy in /environment/miniconda3/lib/python3.11/site-packages (from onnxruntime==1.21.0->-r requirements.txt (line 12)) (1.13.1)\n",
      "Requirement already satisfied: opencv-python-headless in /environment/miniconda3/lib/python3.11/site-packages (from controlnet_aux==0.0.9->-r requirements.txt (line 16)) (4.11.0.86)\n",
      "Requirement already satisfied: scikit-image in /environment/miniconda3/lib/python3.11/site-packages (from controlnet_aux==0.0.9->-r requirements.txt (line 16)) (0.25.2)\n",
      "Requirement already satisfied: torchmetrics>=0.7.0 in /environment/miniconda3/lib/python3.11/site-packages (from pytorch-lightning==2.5.1->-r requirements.txt (line 19)) (1.7.1)\n",
      "Requirement already satisfied: typing-extensions>=4.4.0 in /environment/miniconda3/lib/python3.11/site-packages (from pytorch-lightning==2.5.1->-r requirements.txt (line 19)) (4.13.2)\n",
      "Requirement already satisfied: lightning-utilities>=0.10.0 in /environment/miniconda3/lib/python3.11/site-packages (from pytorch-lightning==2.5.1->-r requirements.txt (line 19)) (0.14.3)\n",
      "Requirement already satisfied: ftfy in /environment/miniconda3/lib/python3.11/site-packages (from open-clip-torch==2.31.0->-r requirements.txt (line 20)) (6.3.1)\n",
      "Requirement already satisfied: networkx in /environment/miniconda3/lib/python3.11/site-packages (from torch==2.6.0->-r requirements.txt (line 21)) (3.3)\n",
      "Requirement already satisfied: jinja2 in /environment/miniconda3/lib/python3.11/site-packages (from torch==2.6.0->-r requirements.txt (line 21)) (3.1.3)\n",
      "Requirement already satisfied: nvidia-cuda-nvrtc-cu12==12.4.127 in /environment/miniconda3/lib/python3.11/site-packages (from torch==2.6.0->-r requirements.txt (line 21)) (12.4.127)\n",
      "Requirement already satisfied: nvidia-cuda-runtime-cu12==12.4.127 in /environment/miniconda3/lib/python3.11/site-packages (from torch==2.6.0->-r requirements.txt (line 21)) (12.4.127)\n",
      "Requirement already satisfied: nvidia-cuda-cupti-cu12==12.4.127 in /environment/miniconda3/lib/python3.11/site-packages (from torch==2.6.0->-r requirements.txt (line 21)) (12.4.127)\n",
      "Requirement already satisfied: nvidia-cudnn-cu12==9.1.0.70 in /environment/miniconda3/lib/python3.11/site-packages (from torch==2.6.0->-r requirements.txt (line 21)) (9.1.0.70)\n",
      "Requirement already satisfied: nvidia-cublas-cu12==12.4.5.8 in /environment/miniconda3/lib/python3.11/site-packages (from torch==2.6.0->-r requirements.txt (line 21)) (12.4.5.8)\n",
      "Requirement already satisfied: nvidia-cufft-cu12==11.2.1.3 in /environment/miniconda3/lib/python3.11/site-packages (from torch==2.6.0->-r requirements.txt (line 21)) (11.2.1.3)\n",
      "Requirement already satisfied: nvidia-curand-cu12==10.3.5.147 in /environment/miniconda3/lib/python3.11/site-packages (from torch==2.6.0->-r requirements.txt (line 21)) (10.3.5.147)\n",
      "Requirement already satisfied: nvidia-cusolver-cu12==11.6.1.9 in /environment/miniconda3/lib/python3.11/site-packages (from torch==2.6.0->-r requirements.txt (line 21)) (11.6.1.9)\n",
      "Requirement already satisfied: nvidia-cusparse-cu12==12.3.1.170 in /environment/miniconda3/lib/python3.11/site-packages (from torch==2.6.0->-r requirements.txt (line 21)) (12.3.1.170)\n",
      "Requirement already satisfied: nvidia-cusparselt-cu12==0.6.2 in /environment/miniconda3/lib/python3.11/site-packages (from torch==2.6.0->-r requirements.txt (line 21)) (0.6.2)\n",
      "Requirement already satisfied: nvidia-nccl-cu12==2.21.5 in /environment/miniconda3/lib/python3.11/site-packages (from torch==2.6.0->-r requirements.txt (line 21)) (2.21.5)\n",
      "Requirement already satisfied: nvidia-nvtx-cu12==12.4.127 in /environment/miniconda3/lib/python3.11/site-packages (from torch==2.6.0->-r requirements.txt (line 21)) (12.4.127)\n",
      "Requirement already satisfied: nvidia-nvjitlink-cu12==12.4.127 in /environment/miniconda3/lib/python3.11/site-packages (from torch==2.6.0->-r requirements.txt (line 21)) (12.4.127)\n",
      "Requirement already satisfied: triton==3.2.0 in /environment/miniconda3/lib/python3.11/site-packages (from torch==2.6.0->-r requirements.txt (line 21)) (3.2.0)\n",
      "Requirement already satisfied: mpmath<1.4,>=1.1.0 in /environment/miniconda3/lib/python3.11/site-packages (from sympy->onnxruntime==1.21.0->-r requirements.txt (line 12)) (1.3.0)\n",
      "Requirement already satisfied: attrs>=17.3.0 in /environment/miniconda3/lib/python3.11/site-packages (from aiohttp->datasets==2.3.0->-r requirements.txt (line 7)) (23.2.0)\n",
      "Requirement already satisfied: chardet<4.0,>=2.0 in /environment/miniconda3/lib/python3.11/site-packages (from aiohttp->datasets==2.3.0->-r requirements.txt (line 7)) (3.0.4)\n",
      "Requirement already satisfied: multidict<7.0,>=4.5 in /environment/miniconda3/lib/python3.11/site-packages (from aiohttp->datasets==2.3.0->-r requirements.txt (line 7)) (6.0.5)\n",
      "Requirement already satisfied: async-timeout<4.0,>=3.0 in /environment/miniconda3/lib/python3.11/site-packages (from aiohttp->datasets==2.3.0->-r requirements.txt (line 7)) (3.0.1)\n",
      "Requirement already satisfied: yarl<2.0,>=1.0 in /environment/miniconda3/lib/python3.11/site-packages (from aiohttp->datasets==2.3.0->-r requirements.txt (line 7)) (1.9.4)\n",
      "Requirement already satisfied: setuptools in /environment/miniconda3/lib/python3.11/site-packages (from lightning-utilities>=0.10.0->pytorch-lightning==2.5.1->-r requirements.txt (line 19)) (68.2.2)\n",
      "Requirement already satisfied: six>=1.5 in /environment/miniconda3/lib/python3.11/site-packages (from python-dateutil>=2.7->matplotlib==3.10.1->-r requirements.txt (line 11)) (1.16.0)\n",
      "Requirement already satisfied: charset-normalizer<4,>=2 in /environment/miniconda3/lib/python3.11/site-packages (from requests->transformers==4.43.3->-r requirements.txt (line 5)) (2.0.4)\n",
      "Requirement already satisfied: idna<4,>=2.5 in /environment/miniconda3/lib/python3.11/site-packages (from requests->transformers==4.43.3->-r requirements.txt (line 5)) (3.4)\n",
      "Requirement already satisfied: urllib3<3,>=1.21.1 in /environment/miniconda3/lib/python3.11/site-packages (from requests->transformers==4.43.3->-r requirements.txt (line 5)) (2.1.0)\n",
      "Requirement already satisfied: certifi>=2017.4.17 in /environment/miniconda3/lib/python3.11/site-packages (from requests->transformers==4.43.3->-r requirements.txt (line 5)) (2024.2.2)\n",
      "Requirement already satisfied: humanfriendly>=9.1 in /environment/miniconda3/lib/python3.11/site-packages (from coloredlogs->onnxruntime==1.21.0->-r requirements.txt (line 12)) (10.0)\n",
      "Requirement already satisfied: wcwidth in /environment/miniconda3/lib/python3.11/site-packages (from ftfy->open-clip-torch==2.31.0->-r requirements.txt (line 20)) (0.2.13)\n",
      "Requirement already satisfied: zipp>=3.20 in /environment/miniconda3/lib/python3.11/site-packages (from importlib-metadata->diffusers==0.32.2->-r requirements.txt (line 9)) (3.21.0)\n",
      "Requirement already satisfied: MarkupSafe>=2.0 in /environment/miniconda3/lib/python3.11/site-packages (from jinja2->torch==2.6.0->-r requirements.txt (line 21)) (2.1.5)\n",
      "Requirement already satisfied: pytz>=2020.1 in /environment/miniconda3/lib/python3.11/site-packages (from pandas->datasets==2.3.0->-r requirements.txt (line 7)) (2024.1)\n",
      "Requirement already satisfied: tzdata>=2022.7 in /environment/miniconda3/lib/python3.11/site-packages (from pandas->datasets==2.3.0->-r requirements.txt (line 7)) (2024.1)\n",
      "Requirement already satisfied: annotated-types>=0.6.0 in /environment/miniconda3/lib/python3.11/site-packages (from pydantic->deepspeed==0.14.4->-r requirements.txt (line 3)) (0.7.0)\n",
      "Requirement already satisfied: pydantic-core==2.33.2 in /environment/miniconda3/lib/python3.11/site-packages (from pydantic->deepspeed==0.14.4->-r requirements.txt (line 3)) (2.33.2)\n",
      "Requirement already satisfied: typing-inspection>=0.4.0 in /environment/miniconda3/lib/python3.11/site-packages (from pydantic->deepspeed==0.14.4->-r requirements.txt (line 3)) (0.4.1)\n",
      "Requirement already satisfied: imageio!=2.35.0,>=2.33 in /environment/miniconda3/lib/python3.11/site-packages (from scikit-image->controlnet_aux==0.0.9->-r requirements.txt (line 16)) (2.37.0)\n",
      "Requirement already satisfied: tifffile>=2022.8.12 in /environment/miniconda3/lib/python3.11/site-packages (from scikit-image->controlnet_aux==0.0.9->-r requirements.txt (line 16)) (2025.5.21)\n",
      "Requirement already satisfied: lazy-loader>=0.4 in /environment/miniconda3/lib/python3.11/site-packages (from scikit-image->controlnet_aux==0.0.9->-r requirements.txt (line 16)) (0.4)\n",
      "Installing collected packages: numpy\n",
      "  Attempting uninstall: numpy\n",
      "    Found existing installation: numpy 2.2.4\n",
      "    Uninstalling numpy-2.2.4:\n",
      "      Successfully uninstalled numpy-2.2.4\n",
      "Successfully installed numpy-1.26.4\n"
     ]
    }
   ],
   "source": [
    "!cd DreamFit && pip install -r requirements.txt"
   ]
  },
  {
   "cell_type": "code",
   "execution_count": 17,
   "id": "854b741d-8298-4219-8ce9-0c3e1806fd09",
   "metadata": {
    "scrolled": true
   },
   "outputs": [
    {
     "name": "stdout",
     "output_type": "stream",
     "text": [
      "Looking in indexes: https://pypi.tuna.tsinghua.edu.cn/simple\n",
      "Requirement already satisfied: flash-attn in /environment/miniconda3/lib/python3.11/site-packages (2.7.4.post1)\n",
      "Requirement already satisfied: torch in /environment/miniconda3/lib/python3.11/site-packages (from flash-attn) (2.6.0)\n",
      "Requirement already satisfied: einops in /environment/miniconda3/lib/python3.11/site-packages (from flash-attn) (0.8.0)\n",
      "Requirement already satisfied: filelock in /environment/miniconda3/lib/python3.11/site-packages (from torch->flash-attn) (3.13.4)\n",
      "Requirement already satisfied: typing-extensions>=4.10.0 in /environment/miniconda3/lib/python3.11/site-packages (from torch->flash-attn) (4.13.2)\n",
      "Requirement already satisfied: networkx in /environment/miniconda3/lib/python3.11/site-packages (from torch->flash-attn) (3.3)\n",
      "Requirement already satisfied: jinja2 in /environment/miniconda3/lib/python3.11/site-packages (from torch->flash-attn) (3.1.3)\n",
      "Requirement already satisfied: fsspec in /environment/miniconda3/lib/python3.11/site-packages (from torch->flash-attn) (2024.3.1)\n",
      "Requirement already satisfied: nvidia-cuda-nvrtc-cu12==12.4.127 in /environment/miniconda3/lib/python3.11/site-packages (from torch->flash-attn) (12.4.127)\n",
      "Requirement already satisfied: nvidia-cuda-runtime-cu12==12.4.127 in /environment/miniconda3/lib/python3.11/site-packages (from torch->flash-attn) (12.4.127)\n",
      "Requirement already satisfied: nvidia-cuda-cupti-cu12==12.4.127 in /environment/miniconda3/lib/python3.11/site-packages (from torch->flash-attn) (12.4.127)\n",
      "Requirement already satisfied: nvidia-cudnn-cu12==9.1.0.70 in /environment/miniconda3/lib/python3.11/site-packages (from torch->flash-attn) (9.1.0.70)\n",
      "Requirement already satisfied: nvidia-cublas-cu12==12.4.5.8 in /environment/miniconda3/lib/python3.11/site-packages (from torch->flash-attn) (12.4.5.8)\n",
      "Requirement already satisfied: nvidia-cufft-cu12==11.2.1.3 in /environment/miniconda3/lib/python3.11/site-packages (from torch->flash-attn) (11.2.1.3)\n",
      "Requirement already satisfied: nvidia-curand-cu12==10.3.5.147 in /environment/miniconda3/lib/python3.11/site-packages (from torch->flash-attn) (10.3.5.147)\n",
      "Requirement already satisfied: nvidia-cusolver-cu12==11.6.1.9 in /environment/miniconda3/lib/python3.11/site-packages (from torch->flash-attn) (11.6.1.9)\n",
      "Requirement already satisfied: nvidia-cusparse-cu12==12.3.1.170 in /environment/miniconda3/lib/python3.11/site-packages (from torch->flash-attn) (12.3.1.170)\n",
      "Requirement already satisfied: nvidia-cusparselt-cu12==0.6.2 in /environment/miniconda3/lib/python3.11/site-packages (from torch->flash-attn) (0.6.2)\n",
      "Requirement already satisfied: nvidia-nccl-cu12==2.21.5 in /environment/miniconda3/lib/python3.11/site-packages (from torch->flash-attn) (2.21.5)\n",
      "Requirement already satisfied: nvidia-nvtx-cu12==12.4.127 in /environment/miniconda3/lib/python3.11/site-packages (from torch->flash-attn) (12.4.127)\n",
      "Requirement already satisfied: nvidia-nvjitlink-cu12==12.4.127 in /environment/miniconda3/lib/python3.11/site-packages (from torch->flash-attn) (12.4.127)\n",
      "Requirement already satisfied: triton==3.2.0 in /environment/miniconda3/lib/python3.11/site-packages (from torch->flash-attn) (3.2.0)\n",
      "Requirement already satisfied: sympy==1.13.1 in /environment/miniconda3/lib/python3.11/site-packages (from torch->flash-attn) (1.13.1)\n",
      "Requirement already satisfied: mpmath<1.4,>=1.1.0 in /environment/miniconda3/lib/python3.11/site-packages (from sympy==1.13.1->torch->flash-attn) (1.3.0)\n",
      "Requirement already satisfied: MarkupSafe>=2.0 in /environment/miniconda3/lib/python3.11/site-packages (from jinja2->torch->flash-attn) (2.1.5)\n"
     ]
    }
   ],
   "source": [
    "!pip install flash-attn --no-build-isolation --use-pep517 "
   ]
  },
  {
   "cell_type": "code",
   "execution_count": null,
   "id": "f4202ad3-bdc5-4928-8b30-e80712a7e3ee",
   "metadata": {
    "scrolled": true
   },
   "outputs": [
    {
     "name": "stdout",
     "output_type": "stream",
     "text": [
      "/environment/miniconda3/lib/python3.11/site-packages/torch/utils/_pytree.py:185: FutureWarning: optree is installed but the version is too old to support PyTorch Dynamo in C++ pytree. C++ pytree support is disabled. Please consider upgrading optree using `python3 -m pip install --upgrade 'optree>=0.13.0'`.\n",
      "  warnings.warn(\n",
      "2025-05-22 16:54:15.727776: I tensorflow/core/platform/cpu_feature_guard.cc:210] This TensorFlow binary is optimized to use available CPU instructions in performance-critical operations.\n",
      "To enable the following instructions: AVX2 AVX512F FMA, in other operations, rebuild TensorFlow with the appropriate compiler flags.\n",
      "2025-05-22 16:54:17.983331: W tensorflow/compiler/tf2tensorrt/utils/py_utils.cc:38] TF-TRT Warning: Could not find TensorRT\n",
      "usage: inference_dreamfit_flux_i2i.py [-h] --config CONFIG --cloth_path\n",
      "                                      CLOTH_PATH --image_text IMAGE_TEXT\n",
      "                                      [--save_dir SAVE_DIR] [--seed SEED]\n",
      "inference_dreamfit_flux_i2i.py: error: the following arguments are required: --cloth_path, --image_text\n"
     ]
    }
   ],
   "source": [
    "!cd DreamFit && bash run_inference_dreamfit_flux_i2i.sh \\\n",
    "    --cloth_path /home/featurize/cloth.jpg \\\n",
    "    --image_text \"A woman wearing a crop top.\""
   ]
  },
  {
   "cell_type": "code",
   "execution_count": null,
   "id": "2058eb1b-dcd0-4e5b-85e8-57b0551a7a1b",
   "metadata": {},
   "outputs": [],
   "source": []
  }
 ],
 "metadata": {
  "kernelspec": {
   "display_name": "Python 3 (ipykernel)",
   "language": "python",
   "name": "python3"
  },
  "language_info": {
   "codemirror_mode": {
    "name": "ipython",
    "version": 3
   },
   "file_extension": ".py",
   "mimetype": "text/x-python",
   "name": "python",
   "nbconvert_exporter": "python",
   "pygments_lexer": "ipython3",
   "version": "3.11.8"
  }
 },
 "nbformat": 4,
 "nbformat_minor": 5
}
